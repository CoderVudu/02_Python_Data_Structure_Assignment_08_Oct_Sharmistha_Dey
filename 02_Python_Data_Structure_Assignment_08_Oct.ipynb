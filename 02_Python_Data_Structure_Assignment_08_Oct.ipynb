{
  "nbformat": 4,
  "nbformat_minor": 0,
  "metadata": {
    "colab": {
      "provenance": [],
      "authorship_tag": "ABX9TyPvYwstwpGcv14bIC574Q9f",
      "include_colab_link": true
    },
    "kernelspec": {
      "name": "python3",
      "display_name": "Python 3"
    },
    "language_info": {
      "name": "python"
    }
  },
  "cells": [
    {
      "cell_type": "markdown",
      "metadata": {
        "id": "view-in-github",
        "colab_type": "text"
      },
      "source": [
        "<a href=\"https://colab.research.google.com/github/CoderVudu/02_Python_Data_Structure_Assignment_08_Oct_Sharmistha_Dey/blob/main/02_Python_Data_Structure_Assignment_08_Oct.ipynb\" target=\"_parent\"><img src=\"https://colab.research.google.com/assets/colab-badge.svg\" alt=\"Open In Colab\"/></a>"
      ]
    },
    {
      "cell_type": "markdown",
      "source": [
        "#Q 1. Discuss string slicing and provide examples."
      ],
      "metadata": {
        "id": "A-mbBDCYw4_J"
      }
    },
    {
      "cell_type": "markdown",
      "source": [
        "String slicing is a method in Python that allows individuals to access any portion (or \"slice\") of a string. The syntax is:\n",
        "\n",
        "```python\n",
        "string[start:stop:step]\n",
        "```\n",
        "\n",
        "- `start`: The index where slicing initiates (inclusive).\n",
        "- `stop`: The index where slicing ends (exclusive).\n",
        "- `step`: How many characters to bypass(optional).\n",
        "\n",
        "When slicing, Python utilises zero-based indexing. In case `start` is omitted, it defaults to the origin of the string, and in case `stop` is missed, it runs until the end of the string. The `step` argument lets skip characters.\n",
        "##For example:"
      ],
      "metadata": {
        "id": "6rz-6zX2yOJN"
      }
    },
    {
      "cell_type": "code",
      "source": [
        "text = \"Hello, World!\"\n",
        "\n",
        "# Slice 'Hello'\n",
        "print(text[0:5])\n",
        "\n",
        "# Slice 'World'\n",
        "print(text[7:12])\n",
        "\n",
        "# Slice 'Hello, World!' with a step of 2\n",
        "print(text[::2])\n",
        "\n",
        "# Reverse the string\n",
        "print(text[::-1])"
      ],
      "metadata": {
        "colab": {
          "base_uri": "https://localhost:8080/"
        },
        "id": "QIL-Z9zqxDuF",
        "outputId": "6ed35504-0858-40b0-81a2-55812c77123a"
      },
      "execution_count": 6,
      "outputs": [
        {
          "output_type": "stream",
          "name": "stdout",
          "text": [
            "Hello\n",
            "World\n",
            "Hlo ol!\n",
            "!dlroW ,olleH\n"
          ]
        }
      ]
    },
    {
      "cell_type": "markdown",
      "source": [
        "#Q 2. Explain the key features of lists in Python."
      ],
      "metadata": {
        "id": "274K78FWz9c3"
      }
    },
    {
      "cell_type": "markdown",
      "source": [
        "In Python, lists are flexible, ordered arrays that may hold several objects in a single variable. Hence, Lists include the following key features:\n",
        "\n",
        "1. Mutability: Lists may be amended after they are created, allowing items to be added, deleted, or altered.\n",
        "2. Order: Items are kept in the order in which they were added and may be retrieved by index positions (beginning with 0).\n",
        "\n",
        "3. Heterogeneous data: A list can include items of several data types, including numbers, texts, and other lists.\n",
        "4. Dynamic size: Lists can expand or contract as required, with no predetermined size.\n",
        "5. Built-in functions: Python has various functions and techniques for working with lists, such as 'append()',' remove()', 'pop()',' sort()', and reverse ()'.\n",
        "6. Slicing: Slicing notation may be used to access specific parts of a list, making subset manipulation simple.\n",
        "These capabilities make lists extremely versatile and commonly used in Python for data collection management.\n",
        "##For example:"
      ],
      "metadata": {
        "id": "4QNGXOXb0DUX"
      }
    },
    {
      "cell_type": "code",
      "source": [
        "my_list = [1, \"PWSkills\", 4.3]  # heterogeneous list\n",
        "print(my_list[1])             # accessing via index: \"PWskills\"\n",
        "my_list.append(\"Orange\")      # adding an element\n",
        "my_list[0] = 10               # modifying an element\n",
        "print(my_list)                # [10, 'Pwskills', 4.3, 'Orange']\n"
      ],
      "metadata": {
        "colab": {
          "base_uri": "https://localhost:8080/"
        },
        "id": "qELLjZF-1aQl",
        "outputId": "24c62de2-4b6f-4fa8-da1e-6453099a1303"
      },
      "execution_count": 9,
      "outputs": [
        {
          "output_type": "stream",
          "name": "stdout",
          "text": [
            "PWSkills\n",
            "[10, 'PWSkills', 4.3, 'Orange']\n"
          ]
        }
      ]
    },
    {
      "cell_type": "markdown",
      "source": [
        "#Q 3. Describe how to access, modify, and delete elements in a list with examples."
      ],
      "metadata": {
        "id": "jHUyExTl1zZx"
      }
    },
    {
      "cell_type": "markdown",
      "source": [
        "In Python, one can access, modify, and delete elements in a list easily.  Access elements using their index:"
      ],
      "metadata": {
        "id": "QHBJ3CyA13mU"
      }
    },
    {
      "cell_type": "code",
      "source": [
        "my_list = [10, 20, 30, 40, 50]\n",
        "print(my_list[1])"
      ],
      "metadata": {
        "colab": {
          "base_uri": "https://localhost:8080/"
        },
        "id": "H_n35f-o2LVl",
        "outputId": "a484e802-84af-456d-8c2c-9fb694a9f817"
      },
      "execution_count": 12,
      "outputs": [
        {
          "output_type": "stream",
          "name": "stdout",
          "text": [
            "20\n"
          ]
        }
      ]
    },
    {
      "cell_type": "markdown",
      "source": [
        "Modify elements by assigning a new value to the index:"
      ],
      "metadata": {
        "id": "6fQ6pgFR2kz6"
      }
    },
    {
      "cell_type": "code",
      "source": [
        "my_list[2] = 35\n",
        "print(my_list)"
      ],
      "metadata": {
        "colab": {
          "base_uri": "https://localhost:8080/"
        },
        "id": "z_QYNuzm2oEJ",
        "outputId": "f5a51f3d-8830-4e77-a89f-28cd4e8a89d3"
      },
      "execution_count": 13,
      "outputs": [
        {
          "output_type": "stream",
          "name": "stdout",
          "text": [
            "[10, 20, 35, 40, 50]\n"
          ]
        }
      ]
    },
    {
      "cell_type": "markdown",
      "source": [
        "Delete elements using del, pop(), or remove():  \n",
        "del removes an element by index:"
      ],
      "metadata": {
        "id": "LBLrEaOp25Xm"
      }
    },
    {
      "cell_type": "code",
      "source": [
        "del my_list[1]\n",
        "print(my_list)"
      ],
      "metadata": {
        "colab": {
          "base_uri": "https://localhost:8080/"
        },
        "id": "S24uq4h626Jt",
        "outputId": "d46e1ac1-dfcf-4d76-d0d9-9dc9af6b6cef"
      },
      "execution_count": 14,
      "outputs": [
        {
          "output_type": "stream",
          "name": "stdout",
          "text": [
            "[10, 35, 40, 50]\n"
          ]
        }
      ]
    },
    {
      "cell_type": "markdown",
      "source": [
        "remove() deletes the first matching element:"
      ],
      "metadata": {
        "id": "W8e6ifHP3E9v"
      }
    },
    {
      "cell_type": "code",
      "source": [
        "my_list.remove(10)\n",
        "print(my_list)"
      ],
      "metadata": {
        "colab": {
          "base_uri": "https://localhost:8080/"
        },
        "id": "xUjMz9nm3MRb",
        "outputId": "7ec4681f-3c3c-4096-8fb9-7d8a1eeb6c31"
      },
      "execution_count": 15,
      "outputs": [
        {
          "output_type": "stream",
          "name": "stdout",
          "text": [
            "[35, 40, 50]\n"
          ]
        }
      ]
    },
    {
      "cell_type": "markdown",
      "source": [
        "pop() removes and returns an element by index (or the last one by default):"
      ],
      "metadata": {
        "id": "k0ZVbiRL3PSD"
      }
    },
    {
      "cell_type": "code",
      "source": [
        "my_list.pop(1)\n",
        "print(my_list)"
      ],
      "metadata": {
        "colab": {
          "base_uri": "https://localhost:8080/"
        },
        "id": "RsHTvJrF3Uwb",
        "outputId": "3f5b0df0-32f9-4e41-a0a5-1cd6d7d6365d"
      },
      "execution_count": 16,
      "outputs": [
        {
          "output_type": "stream",
          "name": "stdout",
          "text": [
            "[35, 50]\n"
          ]
        }
      ]
    },
    {
      "cell_type": "markdown",
      "source": [
        "#Q 4. Compare and contrast tuples and lists with examples."
      ],
      "metadata": {
        "id": "vo2DcWEx3ZdJ"
      }
    },
    {
      "cell_type": "markdown",
      "source": [
        "Tuples, as well as lists, as well as lists, serve as sequence data structures in Python, however, they have important distinctions.\n",
        "\n",
        "1. Mutability: Lists are mutable, allowing for changes to items after construction. Tuples are inherently immutable, meaning that their components cannot be changed once specified.\n",
        "\n",
        "2. Syntax:  Lists utilise square brackets: '[]'. Tuples employ parentheses: '()'.\n",
        "\n",
        "3. Use Cases: Lists are useful for organising items that might change over time, such as a to-do list. Tuples are best suited for fixed sets of objects (such as coordinates).\n",
        "\n",
        "Tuples give higher security, whereas lists allow greater flexibility.\n"
      ],
      "metadata": {
        "id": "jmzA5_ca66W1"
      }
    },
    {
      "cell_type": "code",
      "source": [
        "# List example\n",
        "my_list = [1, 2, 3]\n",
        "my_list[1] = 4  # Modifying element\n",
        "print(my_list)\n",
        "\n",
        "# Tuple example\n",
        "my_tuple = (1, 2, 3)\n",
        "# my_tuple[1] = 4  # Uncommenting this will raise an error\n",
        "print(my_tuple)"
      ],
      "metadata": {
        "colab": {
          "base_uri": "https://localhost:8080/"
        },
        "id": "P2y_VU1b74_4",
        "outputId": "1dd34481-43c9-4d21-d747-c23086518fd5"
      },
      "execution_count": 19,
      "outputs": [
        {
          "output_type": "stream",
          "name": "stdout",
          "text": [
            "[1, 4, 3]\n",
            "(1, 2, 3)\n"
          ]
        }
      ]
    },
    {
      "cell_type": "markdown",
      "source": [
        "#Q 5. Describe the key features of sets and provide examples of their use."
      ],
      "metadata": {
        "id": "ohn0JTrJ8GZX"
      }
    },
    {
      "cell_type": "markdown",
      "source": [
        "Sets in Python represent unordered collections of distinct items, which means that each element may only occur once. They can be helpful for activities that need membership testing, duplication removal, or mathematical operations such as intersection, union, and difference.\n",
        "\n",
        "Key Features:\n",
        "Unordered: Components of a set do not follow a certain order.\n",
        "\n",
        "Unique elements: No repetitions are permitted.\n",
        "\n",
        "Mutable: One can add and delete items, but they have to be immutable (e.g., integers, strings, tuples).\n"
      ],
      "metadata": {
        "id": "90lUp4cy8LW-"
      }
    },
    {
      "cell_type": "code",
      "source": [
        "# Creating a set\n",
        "my_set = {1, 2, 3, 4, 5, 6}\n",
        "\n",
        "# Adding an element\n",
        "my_set.add(7)\n",
        "print (my_set)\n",
        "\n",
        "# Removing duplicates from a list using a set\n",
        "my_list = [1, 2, 2, 3, 4, 4]\n",
        "unique_set = set(my_list)\n",
        "print (unique_set)\n",
        "# Performing set operations\n",
        "set_a = {1, 2, 3, 4}\n",
        "set_b = {4, 5, 6}\n",
        "union_set = set_a | set_b\n",
        "intersection_set = set_a & set_b\n",
        "print (union_set)\n",
        "print (intersection_set)"
      ],
      "metadata": {
        "colab": {
          "base_uri": "https://localhost:8080/"
        },
        "id": "S0Jye7yH938C",
        "outputId": "539e2294-3a6a-429d-cd74-8916fd4ca30f"
      },
      "execution_count": 24,
      "outputs": [
        {
          "output_type": "stream",
          "name": "stdout",
          "text": [
            "{1, 2, 3, 4, 5, 6, 7}\n",
            "{1, 2, 3, 4}\n",
            "{1, 2, 3, 4, 5, 6}\n",
            "{4}\n"
          ]
        }
      ]
    },
    {
      "cell_type": "markdown",
      "source": [
        "#Q 6. Discuss the use cases of tuples and sets in Python programming."
      ],
      "metadata": {
        "id": "JwvazmhZ-_do"
      }
    },
    {
      "cell_type": "markdown",
      "source": [
        "In Python, sets and tuples serve different functions and are selected depending on the data demands:\n",
        "\n",
        "Tuples:\n",
        "Tuples are typically immutable, which means their contents are unable to be modified once created. It renders them suitable for storing fixed groups of things like coordinates, configurations, and days of the week.\n",
        "They keep order by indexing items.\n",
        "Tuples may be employed as keys in dictionaries because they are hashable.\n",
        "Use Case: Keeping fixed data, including coordinates.\n"
      ],
      "metadata": {
        "id": "ElReK_F2APV-"
      }
    },
    {
      "cell_type": "code",
      "source": [
        "coords = (10, 20)\n",
        "print(coords[1])"
      ],
      "metadata": {
        "colab": {
          "base_uri": "https://localhost:8080/"
        },
        "id": "ipACHtD9CMb4",
        "outputId": "1d04cfb9-2197-41a2-d415-b256fddda9ce"
      },
      "execution_count": 26,
      "outputs": [
        {
          "output_type": "stream",
          "name": "stdout",
          "text": [
            "20\n"
          ]
        }
      ]
    },
    {
      "cell_type": "markdown",
      "source": [
        "Sets:\n",
        "\n",
        "Sets are changeable but only hold unique components, making them ideal for situations in which duplicates must be deleted or swift membership checks are required.\n",
        "Sets are unordered as well as cannot include indexing, however, they do offer efficient operations like as intersections, unions, and differences.\n",
        "Use Case: Remove duplicates from a list or verify membership.\n"
      ],
      "metadata": {
        "id": "MbKIc4ItCREX"
      }
    },
    {
      "cell_type": "code",
      "source": [
        "fruits = {\"apple\", \"banana\", \"banana\", \"orange\"}\n",
        "print(fruits)  #no duplicates"
      ],
      "metadata": {
        "colab": {
          "base_uri": "https://localhost:8080/"
        },
        "id": "J4oigo-bPmYR",
        "outputId": "526ef921-e50d-4f33-caa5-9a6648d34937"
      },
      "execution_count": 30,
      "outputs": [
        {
          "output_type": "stream",
          "name": "stdout",
          "text": [
            "{'banana', 'apple', 'orange'}\n"
          ]
        }
      ]
    },
    {
      "cell_type": "markdown",
      "source": [
        "#Q 7. Describe how to add, modify, and delete items in a dictionary with examples."
      ],
      "metadata": {
        "id": "GilP4DEzP7Vv"
      }
    },
    {
      "cell_type": "markdown",
      "source": [
        "A Python dictionary is an accumulation of key-value pairs that helps users store and manage data effectively. Here's how to add, alter, and delete items from a dictionary.\n",
        "\n",
        "Adding items: To add a new key-value pair, assign a value to a key. If the key does not already exist, it will be added.\n"
      ],
      "metadata": {
        "id": "qyeqxF75QBOl"
      }
    },
    {
      "cell_type": "code",
      "source": [
        "my_dict = {'name': 'Sharmistha', 'age': 24}\n",
        "my_dict['city'] = 'Kolkata'  # Adding a new key-value pair\n",
        "print(my_dict)"
      ],
      "metadata": {
        "colab": {
          "base_uri": "https://localhost:8080/"
        },
        "id": "wgbfJ_8xQTfO",
        "outputId": "2bb27167-5514-4f3b-be54-363d99e6785a"
      },
      "execution_count": 34,
      "outputs": [
        {
          "output_type": "stream",
          "name": "stdout",
          "text": [
            "{'name': 'Sharmistha', 'age': 24, 'city': 'Kolkata'}\n"
          ]
        }
      ]
    },
    {
      "cell_type": "markdown",
      "source": [
        "Modifying items: To modify a value, assign a new value to an existing key."
      ],
      "metadata": {
        "id": "DEAtnet6Qfs2"
      }
    },
    {
      "cell_type": "code",
      "source": [
        "my_dict['age'] = 26  # Modifying the value of the 'age' key\n",
        "print(my_dict)"
      ],
      "metadata": {
        "colab": {
          "base_uri": "https://localhost:8080/"
        },
        "id": "02BiOyR0QiNV",
        "outputId": "40d55b4b-dcce-4f9a-962a-537d90f37135"
      },
      "execution_count": 35,
      "outputs": [
        {
          "output_type": "stream",
          "name": "stdout",
          "text": [
            "{'name': 'Sharmistha', 'age': 26, 'city': 'Kolkata'}\n"
          ]
        }
      ]
    },
    {
      "cell_type": "markdown",
      "source": [
        "Deleting items: Use the del keyword or the pop() method to remove a key-value pair."
      ],
      "metadata": {
        "id": "hsGs1La-QpSl"
      }
    },
    {
      "cell_type": "code",
      "source": [
        "del my_dict['city']  # Deleting using del\n",
        "my_dict.pop('age')  # Deleting using pop()\n",
        "print(my_dict)"
      ],
      "metadata": {
        "colab": {
          "base_uri": "https://localhost:8080/"
        },
        "id": "ZPKOYJf7Qzlx",
        "outputId": "2f2893b7-445d-42e3-ddb6-1411165956ce"
      },
      "execution_count": 36,
      "outputs": [
        {
          "output_type": "stream",
          "name": "stdout",
          "text": [
            "{'name': 'Sharmistha'}\n"
          ]
        }
      ]
    },
    {
      "cell_type": "markdown",
      "source": [
        "The pop() function also returns the deleted value, whereas del only deletes the key. These fundamental actions make dictionaries versatile and simple to handle.\n"
      ],
      "metadata": {
        "id": "Ereiy4SRRH8J"
      }
    },
    {
      "cell_type": "markdown",
      "source": [
        "#Q 8. Discuss the importance of dictionary keys being immutable and provide examples."
      ],
      "metadata": {
        "id": "qB2zkgLLRI6q"
      }
    },
    {
      "cell_type": "markdown",
      "source": [
        "To maintain consistent hash values, dictionary keys in Python must be immutable. A dictionary uses hashing to easily retrieve values, and changing the value of a key after it has been added might disturb the dictionary's internal organisation. Immutability prevents this problem, preserving the dictionary's structure.\n",
        "\n",
        "Immutable types like texts, integers, and tuples are frequently used as dictionary keys. These types have fixed values, which ensure that the hash for each key is constant. Mutable types, such as lists and dictionaries, cannot be used as keys since their content changes, resulting in changing hash values and potentially creating problems during lookup or retrieval.\n",
        "Using my_list as a key results in an error since lists are changeable. Making keys immutable helps dictionaries to function more effectively by keeping a constant mapping between keys and values.\n"
      ],
      "metadata": {
        "id": "v4j0iB4nRPPE"
      }
    },
    {
      "cell_type": "code",
      "source": [
        "# Using immutable keys\n",
        "my_dict = {\n",
        "    (1, 2): \"Point A\",  # Tuple as a key\n",
        "    \"name\": \"Sharmistha\",   # String as a key\n",
        "    42: \"Answer\"        # Integer as a key\n",
        "}\n",
        "\n",
        "print(my_dict[(1, 2)])\n",
        "print(my_dict[\"name\"])\n"
      ],
      "metadata": {
        "colab": {
          "base_uri": "https://localhost:8080/"
        },
        "id": "Y5ziAgNYReOE",
        "outputId": "163cae5b-61e2-4824-8516-d713ebbebeef"
      },
      "execution_count": 43,
      "outputs": [
        {
          "output_type": "stream",
          "name": "stdout",
          "text": [
            "Point A\n",
            "Sharmistha\n"
          ]
        }
      ]
    },
    {
      "cell_type": "code",
      "source": [
        "# Attempting to use a list as a key will raise a TypeError\n",
        "try:\n",
        "    my_dict = {\n",
        "        [1, 2]: \"List as Key\"  # This will cause an error\n",
        "    }\n",
        "except TypeError as e:\n",
        "    print(e)  # Output: unhashable type: 'list'\n"
      ],
      "metadata": {
        "colab": {
          "base_uri": "https://localhost:8080/"
        },
        "id": "f6f4LSZdSQvL",
        "outputId": "0e6a3ab3-4844-4656-a4ed-aa217322e801"
      },
      "execution_count": 44,
      "outputs": [
        {
          "output_type": "stream",
          "name": "stdout",
          "text": [
            "unhashable type: 'list'\n"
          ]
        }
      ]
    }
  ]
}